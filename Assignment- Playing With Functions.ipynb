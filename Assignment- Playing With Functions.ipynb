{
 "cells": [
  {
   "cell_type": "markdown",
   "metadata": {},
   "source": [
    "### Number 1"
   ]
  },
  {
   "cell_type": "code",
   "execution_count": 1,
   "metadata": {},
   "outputs": [
    {
     "data": {
      "text/plain": [
       "199.04458598726112"
      ]
     },
     "execution_count": 1,
     "metadata": {},
     "output_type": "execute_result"
    }
   ],
   "source": [
    "def circum_to_area(x):\n",
    "    r = x/(2*3.14)\n",
    "    CONV= 3.14*(r**2)\n",
    "    return CONV\n",
    "circum_to_area(50)"
   ]
  },
  {
   "cell_type": "markdown",
   "metadata": {},
   "source": [
    "### Number 2"
   ]
  },
  {
   "cell_type": "code",
   "execution_count": 2,
   "metadata": {},
   "outputs": [
    {
     "data": {
      "text/plain": [
       "'crazy'"
      ]
     },
     "execution_count": 2,
     "metadata": {},
     "output_type": "execute_result"
    }
   ],
   "source": [
    "def fivestring(x):\n",
    "    return(\"{}{}{}{}{}\".format(x[-1],x[-2],x[-3],x[-4],x[-5]))\n",
    "fivestring(\"yzarc\")"
   ]
  },
  {
   "cell_type": "markdown",
   "metadata": {},
   "source": [
    "### Number 3"
   ]
  },
  {
   "cell_type": "code",
   "execution_count": 3,
   "metadata": {},
   "outputs": [
    {
     "data": {
      "text/plain": [
       "15"
      ]
     },
     "execution_count": 3,
     "metadata": {},
     "output_type": "execute_result"
    }
   ],
   "source": [
    "def summation(a):\n",
    "    w=0\n",
    "    for x in range(1,a+1):\n",
    "        w+=x\n",
    "    return w\n",
    "summation(5)  "
   ]
  },
  {
   "cell_type": "markdown",
   "metadata": {},
   "source": [
    "### Number 4"
   ]
  },
  {
   "cell_type": "code",
   "execution_count": 4,
   "metadata": {},
   "outputs": [
    {
     "name": "stdout",
     "output_type": "stream",
     "text": [
      "25164150\n"
     ]
    }
   ],
   "source": [
    "w=0\n",
    "for x in range(1,100+1):\n",
    "    w+= (x**2)\n",
    "sum_of_squares=w\n",
    "\n",
    "w=0\n",
    "for y in range(1,100+1):\n",
    "    w+=y\n",
    "square_of_sum= w**2\n",
    "\n",
    "difference= square_of_sum-sum_of_squares\n",
    "print(difference)"
   ]
  },
  {
   "cell_type": "markdown",
   "metadata": {},
   "source": [
    "### Number 5"
   ]
  },
  {
   "cell_type": "code",
   "execution_count": 4,
   "metadata": {},
   "outputs": [
    {
     "name": "stdout",
     "output_type": "stream",
     "text": [
      "2\n",
      "1\n",
      "2\n",
      "0\n",
      "3\n"
     ]
    }
   ],
   "source": [
    "def cents(x):\n",
    "    peso=0\n",
    "    twentyfivecents=0\n",
    "    tencents=0\n",
    "    fivecents=0\n",
    "    onecent=0\n",
    "    while(x>0):\n",
    "        if x>99:\n",
    "            x-=100\n",
    "            peso+=1\n",
    "            continue\n",
    "        elif x>24:\n",
    "            x-=25\n",
    "            twentyfivecents+=1\n",
    "            continue\n",
    "        elif x>9:\n",
    "            x-=10\n",
    "            tencents+=1\n",
    "            continue\n",
    "        elif x>4:\n",
    "            x-=5\n",
    "            fivecents+=1\n",
    "            continue\n",
    "        else:\n",
    "            x-=1\n",
    "            onecent+=1\n",
    "            continue\n",
    "            break\n",
    "    print(peso)\n",
    "    print(twentyfivecents)\n",
    "    print(tencents)\n",
    "    print(fivecents)\n",
    "    print(onecent)\n",
    "    \n",
    "\n",
    "cents(248)"
   ]
  },
  {
   "cell_type": "code",
   "execution_count": null,
   "metadata": {},
   "outputs": [],
   "source": []
  }
 ],
 "metadata": {
  "kernelspec": {
   "display_name": "Python 3",
   "language": "python",
   "name": "python3"
  },
  "language_info": {
   "codemirror_mode": {
    "name": "ipython",
    "version": 3
   },
   "file_extension": ".py",
   "mimetype": "text/x-python",
   "name": "python",
   "nbconvert_exporter": "python",
   "pygments_lexer": "ipython3",
   "version": "3.7.6"
  }
 },
 "nbformat": 4,
 "nbformat_minor": 4
}
