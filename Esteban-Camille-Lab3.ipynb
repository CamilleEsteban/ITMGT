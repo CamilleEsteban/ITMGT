{
 "cells": [
  {
   "cell_type": "markdown",
   "metadata": {},
   "source": [
    "**191928**\n",
    "\n",
    "**Esteban**\n",
    "\n",
    "**2-BS ME**"
   ]
  },
  {
   "cell_type": "code",
   "execution_count": 13,
   "metadata": {},
   "outputs": [],
   "source": [
    "social_graph = {\n",
    "    \"@bongolpoc\":{\"first_name\":\"Joselito\",\n",
    "                  \"last_name\":\"Olpoc\",\n",
    "                  \"following\":[\n",
    "                  ]\n",
    "    },\n",
    "    \"@joaquin\":  {\"first_name\":\"Joaquin\",\n",
    "                  \"last_name\":\"Gonzales\",\n",
    "                  \"following\":[\n",
    "                      \"@chums\",\"@jobenilagan\"\n",
    "                  ]\n",
    "    },\n",
    "    \"@chums\" : {\"first_name\":\"Matthew\",\n",
    "                \"last_name\":\"Uy\",\n",
    "                \"following\":[\n",
    "                    \"@bongolpoc\",\"@miketan\",\"@rudyang\",\"@joeilagan\"\n",
    "                ]\n",
    "    },\n",
    "    \"@jobenilagan\":{\"first_name\":\"Joben\",\n",
    "                   \"last_name\":\"Ilagan\",\n",
    "                   \"following\":[\n",
    "                    \"@eeebeee\",\"@joeilagan\",\"@chums\",\"@joaquin\"\n",
    "                   ]\n",
    "    },\n",
    "    \"@joeilagan\":{\"first_name\":\"Joe\",\n",
    "                  \"last_name\":\"Ilagan\",\n",
    "                  \"following\":[\n",
    "                    \"@eeebeee\",\"@jobenilagan\",\"@chums\"\n",
    "                  ]\n",
    "    },\n",
    "    \"@eeebeee\":  {\"first_name\":\"Elizabeth\",\n",
    "                  \"last_name\":\"Ilagan\",\n",
    "                  \"following\":[\n",
    "                    \"@jobenilagan\",\"@joeilagan\"\n",
    "                  ]\n",
    "    },\n",
    "}"
   ]
  },
  {
   "cell_type": "code",
   "execution_count": 16,
   "metadata": {},
   "outputs": [
    {
     "data": {
      "text/plain": [
       "'friends'"
      ]
     },
     "execution_count": 16,
     "metadata": {},
     "output_type": "execute_result"
    }
   ],
   "source": [
    "def relationship_status(from_member,to_member):\n",
    "    following = social_graph[from_member][\"following\"]\n",
    "    follower= social_graph[to_member][\"following\"]\n",
    "    if (from_member in follower) and (to_member in following):\n",
    "        return\"friends\"\n",
    "    elif to_member in following:\n",
    "        return\"follows\"\n",
    "    elif from_member in follower:\n",
    "        return\"followed by\"\n",
    "    else:\n",
    "        return None\n",
    "relationship_status(\"@joeilagan\",\"@jobenilagan\")\n",
    "        \n",
    "        "
   ]
  },
  {
   "cell_type": "code",
   "execution_count": 1,
   "metadata": {},
   "outputs": [],
   "source": [
    "board1 = [\n",
    "['X','X','O'],\n",
    "['O','X','O'],\n",
    "['O','','X'],\n",
    "]\n",
    "\n",
    "board2 = [\n",
    "['X','X','O'],\n",
    "['O','X','O'],\n",
    "['','O','X'],\n",
    "]\n",
    "\n",
    "board3 = [\n",
    "['O','X','O'],\n",
    "['','O','X'],\n",
    "['X','X','O'],\n",
    "]\n",
    "\n",
    "board4 = [\n",
    "['X','X','X'],\n",
    "['O','X','O'],\n",
    "['O','','O'],\n",
    "]\n",
    "\n",
    "board5 = [\n",
    "['X','X','O'],\n",
    "['O','X','O'],\n",
    "['X','','O'],\n",
    "]\n",
    "\n",
    "board6 = [\n",
    "['X','X','O'],\n",
    "['O','X','O'],\n",
    "['X','',''],\n",
    "]"
   ]
  },
  {
   "cell_type": "code",
   "execution_count": 43,
   "metadata": {},
   "outputs": [],
   "source": [
    "def get_winner(board):\n",
    "    \n",
    "    winner=None\n",
    "    ## guides to your approach:\n",
    "    i=0 \n",
    "   ## check diagonals\n",
    "    board[0][0]\n",
    "    board[1][1]\n",
    "    board[2][2]\n",
    "    updowndiagonal= set([board[i][i] for i, v in enumerate(board)])\n",
    "     ## check diagonals\n",
    "    downupdiagonal= set([board[2-i][i] for i, v in enumerate(board)])\n",
    "    \n",
    "     ## - how do you go horizontally?check rows\n",
    "    horizontalfirst= set([ board[0][i] for i, v in enumerate(board)])\n",
    "    horizontalsecond= set([board[1][i] for i,v in enumerate(board)])\n",
    "    horizontalthird=set([board[2][i] for i,v in enumerate(board)])\n",
    "\n",
    "     ## check columns\n",
    "    verticalfirst= set([board[i][0] for i, v in enumerate(board)])\n",
    "    verticalsecond= set([board[i][1] for i, v in enumerate(board)])\n",
    "    verticalthird = set([board[i][2] for i, v in enumerate(board)])\n",
    "\n",
    "    ## put them all in a list\n",
    "    possibilities=[updowndiagonal]+[downupdiagonal]+[horizontalfirst] +[horizontalsecond]+[horizontalthird]+[verticalfirst]+[verticalsecond]+[verticalthird]\n",
    "    \n",
    "    ## use for loop and if function to go through each possibility\n",
    "    for possibility in possibilities:\n",
    "        if len(possibility)==1:\n",
    "            possibility =list(possibility)\n",
    "            winner= possibility[0]\n",
    "            \n",
    "    return winner\n",
    "\n",
    "get_winner(board6)\n",
    "    "
   ]
  },
  {
   "cell_type": "code",
   "execution_count": 57,
   "metadata": {},
   "outputs": [
    {
     "name": "stdout",
     "output_type": "stream",
     "text": [
      "45\n"
     ]
    }
   ],
   "source": [
    "locations = {\n",
    "    \"admu\":{\n",
    "        \"name\":\"Ateneo de Manila University\",\n",
    "        \"latitude\":14.6394557,\n",
    "        \"longitude\":121.0758975        \n",
    "    },\n",
    "    \"upd\":{\n",
    "        \"name\":\"University of the Philippines-Diliman Campus\",\n",
    "        \"latitude\":14.6538519,\n",
    "        \"longitude\":121.0663348\n",
    "    },\n",
    "    \"dlsu\":{\n",
    "        \"name\":\"De La Salle University-Taft\",\n",
    "        \"latitude\":14.5647346,\n",
    "        \"longitude\":120.9909876\n",
    "\n",
    "    }, # <-- Note that Python does not complain about this extra comma. This is perfectly okay.\n",
    "       #     The creators of Python saw that dictionaries tend to be changed a lot, so allowing this is a\n",
    "       #     convenience for developers who need to add elements when needed.\n",
    "}\n",
    "\n",
    "legs = {\n",
    "     (\"upd\",\"admu\"):{\n",
    "         \"travel_time_mins\":10\n",
    "     },\n",
    "     (\"admu\",\"dlsu\"):{\n",
    "         \"travel_time_mins\":35\n",
    "     },\n",
    "     (\"dlsu\",\"upd\"):{\n",
    "         \"travel_time_mins\":55\n",
    "     }\n",
    "}\n",
    "def eta(source,destination):\n",
    "    pass\n",
    "    # write your code here\n",
    "    schools= [\"upd\",\"admu\",\"dlsu\"]\n",
    "    if (source==\"upd\" and destination==\"admu\")or (source==\"admu\" and destination==\"dlsu\") or (source==\"dlsu\" and \"destination\"==\"upd\"):\n",
    "        print(legs[source,destination][\"travel_time_mins\"])\n",
    "    else:\n",
    "        schools.remove(source)\n",
    "        schools.remove(destination)\n",
    "        print(legs[source,schools[0]][\"travel_time_mins\"]+legs[schools[0],destination][\"travel_time_mins\"] )\n",
    "    \n",
    "\n",
    "eta(\"upd\",\"dlsu\")\n"
   ]
  },
  {
   "cell_type": "code",
   "execution_count": null,
   "metadata": {},
   "outputs": [],
   "source": []
  }
 ],
 "metadata": {
  "kernelspec": {
   "display_name": "Python 3",
   "language": "python",
   "name": "python3"
  },
  "language_info": {
   "codemirror_mode": {
    "name": "ipython",
    "version": 3
   },
   "file_extension": ".py",
   "mimetype": "text/x-python",
   "name": "python",
   "nbconvert_exporter": "python",
   "pygments_lexer": "ipython3",
   "version": "3.7.6"
  }
 },
 "nbformat": 4,
 "nbformat_minor": 4
}
